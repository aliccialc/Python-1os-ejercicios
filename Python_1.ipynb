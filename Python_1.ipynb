{
  "nbformat": 4,
  "nbformat_minor": 0,
  "metadata": {
    "colab": {
      "name": "Python 1.ipynb",
      "provenance": [],
      "collapsed_sections": [],
      "authorship_tag": "ABX9TyPuWAyRWpZS6mlAkwgsVvg4",
      "include_colab_link": true
    },
    "kernelspec": {
      "name": "python3",
      "display_name": "Python 3"
    },
    "language_info": {
      "name": "python"
    }
  },
  "cells": [
    {
      "cell_type": "markdown",
      "metadata": {
        "id": "view-in-github",
        "colab_type": "text"
      },
      "source": [
        "<a href=\"https://colab.research.google.com/github/aliccialc/Python-1os-ejercicios/blob/main/Python_1.ipynb\" target=\"_parent\"><img src=\"https://colab.research.google.com/assets/colab-badge.svg\" alt=\"Open In Colab\"/></a>"
      ]
    },
    {
      "cell_type": "markdown",
      "source": [
        "1. ¿Qué expresión en Python (la más idiomática que encuentres) necesitamos para conseguir el string GATTACAGATTACAGATTACAGATTACAGATTACA utilizando\n",
        "solo la palabra GATTACA ?"
      ],
      "metadata": {
        "id": "WPBnIK2fGfBh"
      }
    },
    {
      "cell_type": "code",
      "execution_count": null,
      "metadata": {
        "id": "eQE_0AVc3OVD",
        "colab": {
          "base_uri": "https://localhost:8080/"
        },
        "outputId": "4fcd1e6e-d853-417a-962b-056953803136"
      },
      "outputs": [
        {
          "output_type": "stream",
          "name": "stdout",
          "text": [
            "GATTACAGATTACAGATTACAGATTACAGATTACA\n"
          ]
        }
      ],
      "source": [
        "print(\"GATTACA\" * 5)"
      ]
    },
    {
      "cell_type": "markdown",
      "source": [
        "2. ¿Cuál es el valor final de a, b y c (atención a los tipos de número decimal y entero)?"
      ],
      "metadata": {
        "id": "JLklNHPCLdVW"
      }
    },
    {
      "cell_type": "code",
      "source": [
        "a = 2*8\n",
        "b = 5/2.\n",
        "c, a = a+3, b*2\n",
        "b = a // 3\n",
        "\n",
        "print(a, b, c)"
      ],
      "metadata": {
        "colab": {
          "base_uri": "https://localhost:8080/"
        },
        "id": "eVMN63IILfpc",
        "outputId": "99b898a5-360d-4414-df2a-8d1822b7fae8"
      },
      "execution_count": null,
      "outputs": [
        {
          "output_type": "stream",
          "name": "stdout",
          "text": [
            "5.0 1.0 19\n"
          ]
        }
      ]
    },
    {
      "cell_type": "markdown",
      "metadata": {
        "id": "o3DVxkqfOh0Z"
      },
      "source": [
        "3. Escribe un programa que asigne dos valores enteros cualquiera (escoged vosotros un número entero aleatorio, no es necesario utilizar ninguna librería externa) a dos variables con nombre t y w, calcule el producto de t por dos veces w y finalmente muestre el valor del cuadrado de la operación anterior:\n",
        "\n",
        "f(t, w) = (t \\* 2 \\* w)<sup>2</sup>\n",
        "\n",
        "**Nota:** No es necesario utilizar ninguna libreria, ni importar ningún módulo para escoger el numero aleatorio ni para resolver este ejercicio."
      ]
    },
    {
      "cell_type": "code",
      "source": [
        "t = 2\n",
        "w = 4\n",
        "\n",
        "p = t * 2. * w\n",
        "print(p**2)"
      ],
      "metadata": {
        "colab": {
          "base_uri": "https://localhost:8080/"
        },
        "id": "5uXZ_wgZ60P-",
        "outputId": "7074fd0d-7099-4528-8979-23623fc32940"
      },
      "execution_count": null,
      "outputs": [
        {
          "output_type": "stream",
          "name": "stdout",
          "text": [
            "256.0\n"
          ]
        }
      ]
    },
    {
      "cell_type": "markdown",
      "metadata": {
        "id": "rziYcHyEOh0b"
      },
      "source": [
        "4. Escribe un programa que defina una lista cuyos valores sean los nombres de los meses del año. Ordénalos por orden lexicográfico:"
      ]
    },
    {
      "cell_type": "code",
      "source": [
        "# Lista\n",
        "meses = [\"Enero\", \"Febrero\", \"Marzo\", \"Abril\", \"Mayo\", \"Junio\", \"Julio\", \"Agosto\", \"Septiembre\", \"Octubre\", \"Noviembre\", \"Diciembre\"]\n",
        "\n",
        "print(sorted(meses))"
      ],
      "metadata": {
        "colab": {
          "base_uri": "https://localhost:8080/"
        },
        "id": "fYsOT6Fn7iN3",
        "outputId": "134fb575-1c2d-4f8d-c8bf-6af880b254f0"
      },
      "execution_count": null,
      "outputs": [
        {
          "output_type": "stream",
          "name": "stdout",
          "text": [
            "['Abril', 'Agosto', 'Diciembre', 'Enero', 'Febrero', 'Julio', 'Junio', 'Marzo', 'Mayo', 'Noviembre', 'Octubre', 'Septiembre']\n"
          ]
        }
      ]
    },
    {
      "cell_type": "markdown",
      "metadata": {
        "id": "XDc7KG7fOh0d"
      },
      "source": [
        "5. Escribe un programa que calcule e imprima el volumen de una esfera de radio 19.2758 y lo redondee a el entero mas cercano:"
      ]
    },
    {
      "cell_type": "code",
      "source": [
        "import math\n",
        "print(math.pi)"
      ],
      "metadata": {
        "colab": {
          "base_uri": "https://localhost:8080/"
        },
        "id": "pB2DJCHL9c9L",
        "outputId": "4ef12021-a0a1-47bd-e28c-a703125f992a"
      },
      "execution_count": null,
      "outputs": [
        {
          "output_type": "stream",
          "name": "stdout",
          "text": [
            "3.141592653589793\n"
          ]
        }
      ]
    },
    {
      "cell_type": "code",
      "execution_count": null,
      "metadata": {
        "id": "hFFULjieOh0f",
        "colab": {
          "base_uri": "https://localhost:8080/"
        },
        "outputId": "f921bdfa-cdc9-4989-85d2-d93d1eefceaa"
      },
      "outputs": [
        {
          "output_type": "stream",
          "name": "stdout",
          "text": [
            "30000\n"
          ]
        }
      ],
      "source": [
        "import math\n",
        "\n",
        "radi = 19.2758\n",
        "volum_esfera = round(4./3 * math.pi * radi**3)\n",
        "\n",
        "print(volum_esfera)"
      ]
    },
    {
      "cell_type": "markdown",
      "metadata": {
        "id": "IWE8PD6eOh0g"
      },
      "source": [
        "6. Escribe un programa donde se defina un **diccionario** (estructura de datos Python) cuyas **claves** sean los nombres de los continentes y el **valor** una **lista** (estructura de datos Python) con animales endémicos de ese continente. Por ejemplo:\n",
        "\n",
        "```\n",
        "animales -> Europa: Lince ibérico, Bison Europeo, Vaca Suiza\n",
        "            África: León, Elefante Africano, Avestruz\n",
        "            ...\n",
        "```\n",
        "\n",
        "Un diccionario y una lista son estructuras de datos de Python, por favor repasa la teoria si no lo recuerdas."
      ]
    },
    {
      "cell_type": "code",
      "source": [
        "animales = {'Europa': ['Lince ibérico', 'Bison Europeo', 'Vaca Suiza'],\n",
        "            'África': ['León', 'Elefante Africano', 'Avestruz']\n",
        "           }\n",
        "\n",
        "print(animales)\n"
      ],
      "metadata": {
        "colab": {
          "base_uri": "https://localhost:8080/"
        },
        "id": "HrQOPfzL9gPj",
        "outputId": "4cfd2159-821a-4af6-83bc-87be12eabf53"
      },
      "execution_count": null,
      "outputs": [
        {
          "output_type": "stream",
          "name": "stdout",
          "text": [
            "{'Europa': ['Lince ibérico', 'Bison Europeo', 'Vaca Suiza'], 'África': ['León', 'Elefante Africano', 'Avestruz']}\n"
          ]
        }
      ]
    },
    {
      "cell_type": "markdown",
      "metadata": {
        "id": "n4pnSfWaOh0i"
      },
      "source": [
        "7. Escribe un programa que imprima la versión del intérprete de Python que se está ejecutando:"
      ]
    },
    {
      "cell_type": "code",
      "source": [
        "import sys\n",
        "\n",
        "print(sys.version)"
      ],
      "metadata": {
        "colab": {
          "base_uri": "https://localhost:8080/"
        },
        "id": "r3wGgDE--SCX",
        "outputId": "734cf17e-55e2-4250-d348-c72ddad23a6e"
      },
      "execution_count": null,
      "outputs": [
        {
          "output_type": "stream",
          "name": "stdout",
          "text": [
            "3.7.13 (default, Apr 24 2022, 01:04:09) \n",
            "[GCC 7.5.0]\n"
          ]
        }
      ]
    },
    {
      "cell_type": "markdown",
      "metadata": {
        "id": "iUBAvdrgOh0l"
      },
      "source": [
        "8. Escribe un programa que imprima la fecha y la hora actuales:"
      ]
    },
    {
      "cell_type": "code",
      "source": [
        "import datetime\n",
        "\n",
        "print(datetime.datetime.now())"
      ],
      "metadata": {
        "colab": {
          "base_uri": "https://localhost:8080/"
        },
        "id": "iqhXNc_u-jvJ",
        "outputId": "1b811ac4-eeb9-41e7-8aae-397d6632dbb9"
      },
      "execution_count": null,
      "outputs": [
        {
          "output_type": "stream",
          "name": "stdout",
          "text": [
            "2022-07-19 10:21:59.203185\n"
          ]
        }
      ]
    },
    {
      "cell_type": "markdown",
      "metadata": {
        "id": "9_CyTMz5Oh0n"
      },
      "source": [
        "9. Escribe un programa que calcule el número de días entre estas dos fechas:\n",
        "\n",
        "01/12/1984\n",
        "\n",
        "09/03/2021"
      ]
    },
    {
      "cell_type": "code",
      "execution_count": null,
      "metadata": {
        "id": "QmtvEf-9Oh0p",
        "colab": {
          "base_uri": "https://localhost:8080/"
        },
        "outputId": "d5641bb1-44ac-48d2-8301-3affcb32c86d"
      },
      "outputs": [
        {
          "output_type": "stream",
          "name": "stdout",
          "text": [
            "13247\n"
          ]
        }
      ],
      "source": [
        "from datetime import date\n",
        "\n",
        "date1 = date(1984, 12, 1)\n",
        "date2 = date(2021, 3, 9)\n",
        "delta = date2 - date1\n",
        "\n",
        "print(delta.days)"
      ]
    },
    {
      "cell_type": "markdown",
      "metadata": {
        "id": "WtA1S8rKjGbB"
      },
      "source": [
        "10. Completa el código necesario para: \n",
        "\n",
        "* Calcular el número de frases separadas por una coma.\n",
        "* Calcular el número de espacios de un texto.\n",
        "* Calcula el número de letras 'B' o 'a' que aparecen\n",
        "\n",
        "Ten en cuenta lo siguiente:\n",
        "\n",
        "* **El número de espacios no tiene que ser necesariamente función del número de palabras**\n",
        "* **Entre una línea y la siguiente de texto, justo después del carácter '\\' hay un gran número de espacios**\n",
        "* **Hay que contar el número de letras 'a', indistintamente de si son mayúsculas o minúsculas**\n"
      ]
    },
    {
      "cell_type": "code",
      "execution_count": null,
      "metadata": {
        "id": "SERpfhrZjGbG",
        "outputId": "c6c2db65-7f35-4b7c-c576-f41395188a7a",
        "colab": {
          "base_uri": "https://localhost:8080/"
        }
      },
      "outputs": [
        {
          "output_type": "stream",
          "name": "stdout",
          "text": [
            "Texto 1\n",
            "El número de palabras es de 6\n",
            "El número de espacios es de 74\n",
            "El número de letras 'a' es de 7\n",
            "\n",
            "Texto 2\n",
            "El número de palabras es de 8\n",
            "El número de espacios es de 96\n",
            "El número de letras 'a' es de 7\n"
          ]
        }
      ],
      "source": [
        "texto1 = \"There was no reason to believe that a young black boy at this time, \\\n",
        "    in this place, could in any way alter history. After all, South Africa was \\\n",
        "    then less than a decade removed from full British control. Already, laws \\\n",
        "    were being codified to implement racial segregation and subjugation, \\\n",
        "    the network of laws that would be known as apartheid\"\n",
        "\n",
        "texto2 = \"Bioinformatics can be considered as the application of computer technology\\\n",
        "     to the understanding and effective use of biological and clinical data. It is \\\n",
        "     the discipline that acquire, stores,analyses and interprets the ‘big data’ \\\n",
        "     generated by life science experiments, or clinical data, using computer science.\\\n",
        "     Bioinformatics uses computer programs for a variety of applications, including \\\n",
        "     determining gene and protein functions, establishing evolutionary relationships, \\\n",
        "     and predicting the three-dimensional shapes of proteins.\"\n",
        "\n",
        "def contar_palabras(texto):\n",
        "    num_palabras = len(texto.split(','))\n",
        "    \n",
        "    return num_palabras\n",
        "\n",
        "def contar_espacios(texto):\n",
        "    num_espacios = texto.count(' ')\n",
        "    \n",
        "    return num_espacios\n",
        "\n",
        "def contar_letras(texto, letra='b'):\n",
        "    # Cuenta de letras 'letra' contenidos en texto\n",
        "    \n",
        "    # Utilizaremos la función count(), pero en este caso \n",
        "    # pasaremos antes todo a minúsculas:\n",
        "    num_letras = texto.lower().count(letra.lower())\n",
        "    \n",
        "    return num_letras\n",
        "\n",
        "\n",
        "# Utilizamos la funciones para el texto1:\n",
        "num_palabras = contar_palabras(texto1)\n",
        "num_espacios = contar_espacios(texto1)\n",
        "num_letras = contar_letras(texto1)\n",
        "print(\"Texto 1\")\n",
        "print(\"El número de palabras es de %d\" % num_palabras)\n",
        "print(\"El número de espacios es de %d\" % num_espacios)\n",
        "print(\"El número de letras 'a' es de %d\" % num_letras)\n",
        "\n",
        "print()\n",
        "\n",
        "# Y también para el texto2:\n",
        "num_palabras = contar_palabras(texto2)\n",
        "num_espacios = contar_espacios(texto2)\n",
        "num_letras = contar_letras(texto2)\n",
        "print(\"Texto 2\")\n",
        "print(\"El número de palabras es de %d\" % num_palabras)\n",
        "print(\"El número de espacios es de %d\" % num_espacios)\n",
        "print(\"El número de letras 'a' es de %d\" % num_letras)"
      ]
    },
    {
      "cell_type": "markdown",
      "source": [
        "11. El siguiente ejercicio consiste en pasar un número en base 2 (binario, 0/1) a base 10 (decimal).\n",
        "\n",
        "Dado un string que representa un número en binario, por ejemplo, 1111111, devolver el número natural correspondiente, en este caso, 127."
      ],
      "metadata": {
        "id": "2Bwd7RGbzVQf"
      }
    },
    {
      "cell_type": "code",
      "source": [
        "def binario_a_decimal(binario):\n",
        "  posicion = 0 # se comienza en 0 por defecto\n",
        "  decimal = 0 # se comienza en 0 por defecto\n",
        "  binario = binario[::-1] # se invierte el número binario\n",
        "  for numero in binario: # se crea un bucle para recorrer cada numero del numero binario\n",
        "    posicion += 1 # por cada numero se sumara 1 como posicion\n",
        "    multiplicar = 2**posicion\n",
        "    decimal += int(numero) * multiplicar\n",
        "  return decimal\n",
        "\n",
        "binario = input(\"Ingresa un número binario: \")\n",
        "decimal = binario_a_decimal(binario)\n",
        "print(decimal)\n"
      ],
      "metadata": {
        "id": "CCWIHWJkzYgc",
        "colab": {
          "base_uri": "https://localhost:8080/"
        },
        "outputId": "cc684b5a-9f97-4e75-ba4c-c379c89f6631"
      },
      "execution_count": null,
      "outputs": [
        {
          "output_type": "stream",
          "name": "stdout",
          "text": [
            "Ingresa un número binario: 111\n",
            "14\n"
          ]
        }
      ]
    },
    {
      "cell_type": "markdown",
      "source": [
        "12. Dada una molécula representada por un string del estilo C9-H8-O4 calcula su masa atómica. Por ejemplo, para una molécula C4-H3, la masa atómica sería de 4*12.01 + 3*1.007825.\n",
        "\n",
        "Haced una solución general accediendo al diccionario mediante la clave, que en este caso será el tipo de átomo. Por ejemplo, para la molécula C5-H3 deberíamos seguir estos pasos:\n",
        "\n",
        "Separar la molecula por los guiones (podemos hacerlo con la función split, por ejemplo).\n",
        "Para cada una de las partes, C5 y H3, encontrar el tipo de átomo: C y H. (Necesitaremos un bucle de algún tipo aquí)\n",
        "Acceder al diccionario de masas y para la clave que se corresponde con el tipo de átomo, obtener la masa.\n",
        "Una vez encontrada la masa, multiplicarla por el número de átomos encontrados.\n",
        "Pista: para un string del tipo a = 'C15', a[0] nos proporcionará el tipo de átomo, C. a[1:] nos proporciona el string restante: '15'. Tened en cuenta que ha de convertirse a número decimal para poder multiplicarse."
      ],
      "metadata": {
        "id": "yNWEUDCR5Srz"
      }
    },
    {
      "cell_type": "code",
      "source": [
        "# Masas atómicas \n",
        "masas = {'H': 1.007825, 'C': 12.01, 'O': 15.9994, 'N': 14.0067, 'S': 31.972071, 'P': 30.973762}\n",
        "\n",
        "def calcula_masa_atomica(molecula):\n",
        "    \n",
        "     molecula = molecula.split('-') # separamos los atomos de las moleculas por el '-'\n",
        "     masa = 0.0 # comenzamos en 0 por defecto\n",
        "     for atomo in molecula: # Un bucle que pase por cada atomo de la  molecula\n",
        "       tipo_atomo = atomo[0] \n",
        "       if len(atomo[1:])>0:\n",
        "         num_atomos = int(atomo[1:])\n",
        "       else: \n",
        "         num_atomos = 1\n",
        "       masa += num_atomos * masas[tipo_atomo]       \n",
        "     return masa  \n",
        "print(calcula_masa_atomica('C-H2-O2')) \n",
        "print(calcula_masa_atomica('C20-H15-N')) \n",
        "print(calcula_masa_atomica('H-N-O2')) \n",
        "print(calcula_masa_atomica('C8-H10-N4-O2')) \n",
        "print(calcula_masa_atomica('C20-H15-N5-O')) \n",
        "print(calcula_masa_atomica('C20-H10-O2-P2-S'))\n"
      ],
      "metadata": {
        "colab": {
          "base_uri": "https://localhost:8080/"
        },
        "id": "8lB3maoP5WMH",
        "outputId": "73d4dc30-6539-4180-eb70-26f8d59b86ed"
      },
      "execution_count": null,
      "outputs": [
        {
          "output_type": "stream",
          "name": "stdout",
          "text": [
            "46.02445\n",
            "269.324075\n",
            "47.013325\n",
            "194.18384999999998\n",
            "341.35027499999995\n",
            "376.196645\n"
          ]
        }
      ]
    },
    {
      "cell_type": "markdown",
      "source": [
        "13. Define una función para el indice de masa corporal.\n"
      ],
      "metadata": {
        "id": "4GQM1X04yxql"
      }
    },
    {
      "cell_type": "code",
      "source": [
        "peso = float(input(\"Ingrese su peso en Kilogramos: \")) # float permite representa numero - y + con decimales\n",
        "estatura = float(input(\"Ingrese su estatura en metros: \"))\n",
        "\n",
        "def calculo_bmi(peso, estatura):\n",
        "  x = peso / estatura**2\n",
        "\n",
        "  if x <18.5:\n",
        "    print('Bajo peso')\n",
        "  elif x >18.5 and x < 24.9:\n",
        "    print('Peso normal')\n",
        "  elif x >25 and x < 29.9:\n",
        "    print('Pre-obesidad o Sobrepeso')\n",
        "  elif x >30 and x < 34.9:\n",
        "    print('Obesidad clase I')\n",
        "  elif x >35 and x < 39.9:\n",
        "    print('Obesidad clase II')\n",
        "  elif x > 40:\n",
        "    print('Obesidad clase III')\n",
        "  else:\n",
        "    print('error al introducir los datos')\n",
        "  return x\n",
        "  \n",
        "\n",
        "print(\"Su indice de masa corporal es: %d\" % (calculo_bmi(peso, estatura)))"
      ],
      "metadata": {
        "colab": {
          "base_uri": "https://localhost:8080/"
        },
        "id": "0Aq3pRorOdF_",
        "outputId": "6daffe34-b468-4061-ea90-20575bb75895"
      },
      "execution_count": null,
      "outputs": [
        {
          "output_type": "stream",
          "name": "stdout",
          "text": [
            "Ingrese su peso en Kilogramos: 65\n",
            "Ingrese su estatura en metros: 1.66\n",
            "Peso normal\n",
            "Su indice de masa corporal es: 23\n"
          ]
        }
      ]
    },
    {
      "cell_type": "markdown",
      "source": [
        "14. Uno de los algoritmos más básicos en criptografía es el cifrado César (https://es.wikipedia.org/wiki/Cifrado_C%C3%A9sar), que fue utilizado por Julio César para comunicarse con sus generales, y que consiste en dado un texto, por cada una de las letras del texto, añadirle un desplazamiento para conseguir una nueva letra diferente de la original. Comprenderemos rápidamente su mecanismo mediante un ejemplo:\n",
        "\n",
        "Si asignamos el número 1 a la primera letra del abecedario, A, 2 a la siguiente, B, etc., imaginad que tenemos el siguiente mensaje: ABC 123\n",
        "\n",
        "Si aplicamos un desplazamiento de 3, buscaremos cuál es la letra en el abecedario que se corresponde: DEF 456\n",
        "\n",
        "ABC se ha convertido en DEF porque hemos sumado un desplazamiento de 3. También podríamos aplicar otros tipos de desplazamiento como los negativos. Por ejemplo, para el desplazamiento -1 y el mensaje original ABC tendríamos un mensaje cifrado de: ZAB.\n",
        "\n",
        "Escribid una función que dado un mensaje original y un desplazamiento, calcule y devuelva el mensaje cifrado:"
      ],
      "metadata": {
        "id": "vSVoeiLH2HQb"
      }
    },
    {
      "cell_type": "code",
      "source": [
        "def cifrado_cesar(mensaje, desplazamiento=1):\n",
        "   \"\"\"     Cifra el mensaje utilizando el metodo de Cesar dado un desplazamiento     \"\"\"     \n",
        "   mensaje_cifrado = \"\"                   \n",
        "   \n",
        "   mensaje = mensaje.upper()\n",
        "\n",
        "   for letra in mensaje:\n",
        "     if letra == \" \": \n",
        "       # No es necesario cifrar el espacio:\n",
        "       mensaje_cifrado += letra\n",
        "\n",
        "     else:\n",
        "       letra_cifrada = chr(65 + (ord(letra) + desplazamiento - 65) % 26) \n",
        "       \n",
        "       mensaje_cifrado += letra_cifrada\n",
        "   return mensaje_cifrado  \n",
        "\n",
        "# Aqui podeis añadir mas ejemplos \n",
        "print(cifrado_cesar(\"A\", 1)) "
      ],
      "metadata": {
        "colab": {
          "base_uri": "https://localhost:8080/"
        },
        "id": "a3yHZIqEtUY4",
        "outputId": "460f0148-27b7-4c28-d62a-d6ff5edb3a9a"
      },
      "execution_count": 1,
      "outputs": [
        {
          "output_type": "stream",
          "name": "stdout",
          "text": [
            "B\n"
          ]
        }
      ]
    }
  ]
}