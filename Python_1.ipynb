{
  "nbformat": 4,
  "nbformat_minor": 0,
  "metadata": {
    "colab": {
      "name": "Python 1.ipynb",
      "provenance": [],
      "authorship_tag": "ABX9TyPfKskSsqYnweop9/gHzAi+",
      "include_colab_link": true
    },
    "kernelspec": {
      "name": "python3",
      "display_name": "Python 3"
    },
    "language_info": {
      "name": "python"
    }
  },
  "cells": [
    {
      "cell_type": "markdown",
      "metadata": {
        "id": "view-in-github",
        "colab_type": "text"
      },
      "source": [
        "<a href=\"https://colab.research.google.com/github/aliccialc/Python-1os-ejercicios/blob/main/Python_1.ipynb\" target=\"_parent\"><img src=\"https://colab.research.google.com/assets/colab-badge.svg\" alt=\"Open In Colab\"/></a>"
      ]
    },
    {
      "cell_type": "markdown",
      "source": [
        "1. ¿Qué expresión en Python (la más idiomática que encuentres) necesitamos para conseguir el string GATTACAGATTACAGATTACAGATTACAGATTACA utilizando\n",
        "solo la palabra GATTACA ?"
      ],
      "metadata": {
        "id": "WPBnIK2fGfBh"
      }
    },
    {
      "cell_type": "code",
      "execution_count": null,
      "metadata": {
        "id": "eQE_0AVc3OVD",
        "colab": {
          "base_uri": "https://localhost:8080/"
        },
        "outputId": "4fcd1e6e-d853-417a-962b-056953803136"
      },
      "outputs": [
        {
          "output_type": "stream",
          "name": "stdout",
          "text": [
            "GATTACAGATTACAGATTACAGATTACAGATTACA\n"
          ]
        }
      ],
      "source": [
        "print(\"GATTACA\" * 5)"
      ]
    },
    {
      "cell_type": "markdown",
      "source": [
        "2. ¿Cuál es el valor final de a, b y c (atención a los tipos de número decimal y entero)?"
      ],
      "metadata": {
        "id": "JLklNHPCLdVW"
      }
    },
    {
      "cell_type": "code",
      "source": [
        "a = 2*8\n",
        "b = 5/2.\n",
        "c, a = a+3, b*2\n",
        "b = a // 3\n",
        "\n",
        "print(a, b, c)"
      ],
      "metadata": {
        "colab": {
          "base_uri": "https://localhost:8080/"
        },
        "id": "eVMN63IILfpc",
        "outputId": "99b898a5-360d-4414-df2a-8d1822b7fae8"
      },
      "execution_count": null,
      "outputs": [
        {
          "output_type": "stream",
          "name": "stdout",
          "text": [
            "5.0 1.0 19\n"
          ]
        }
      ]
    },
    {
      "cell_type": "markdown",
      "metadata": {
        "id": "o3DVxkqfOh0Z"
      },
      "source": [
        "3. Escribe un programa que asigne dos valores enteros cualquiera (escoged vosotros un número entero aleatorio, no es necesario utilizar ninguna librería externa) a dos variables con nombre t y w, calcule el producto de t por dos veces w y finalmente muestre el valor del cuadrado de la operación anterior:\n",
        "\n",
        "f(t, w) = (t \\* 2 \\* w)<sup>2</sup>\n",
        "\n",
        "**Nota:** No es necesario utilizar ninguna libreria, ni importar ningún módulo para escoger el numero aleatorio ni para resolver este ejercicio."
      ]
    },
    {
      "cell_type": "code",
      "source": [
        "t = 2\n",
        "w = 4\n",
        "\n",
        "p = t * 2. * w\n",
        "print(p**2)"
      ],
      "metadata": {
        "colab": {
          "base_uri": "https://localhost:8080/"
        },
        "id": "5uXZ_wgZ60P-",
        "outputId": "7074fd0d-7099-4528-8979-23623fc32940"
      },
      "execution_count": null,
      "outputs": [
        {
          "output_type": "stream",
          "name": "stdout",
          "text": [
            "256.0\n"
          ]
        }
      ]
    },
    {
      "cell_type": "markdown",
      "metadata": {
        "id": "rziYcHyEOh0b"
      },
      "source": [
        "4. Escribe un programa que defina una lista cuyos valores sean los nombres de los meses del año. Ordénalos por orden lexicográfico:"
      ]
    },
    {
      "cell_type": "code",
      "source": [
        "# Lista\n",
        "meses = [\"Enero\", \"Febrero\", \"Marzo\", \"Abril\", \"Mayo\", \"Junio\", \"Julio\", \"Agosto\", \"Septiembre\", \"Octubre\", \"Noviembre\", \"Diciembre\"]\n",
        "\n",
        "print(sorted(meses))"
      ],
      "metadata": {
        "colab": {
          "base_uri": "https://localhost:8080/"
        },
        "id": "fYsOT6Fn7iN3",
        "outputId": "134fb575-1c2d-4f8d-c8bf-6af880b254f0"
      },
      "execution_count": null,
      "outputs": [
        {
          "output_type": "stream",
          "name": "stdout",
          "text": [
            "['Abril', 'Agosto', 'Diciembre', 'Enero', 'Febrero', 'Julio', 'Junio', 'Marzo', 'Mayo', 'Noviembre', 'Octubre', 'Septiembre']\n"
          ]
        }
      ]
    },
    {
      "cell_type": "markdown",
      "metadata": {
        "id": "XDc7KG7fOh0d"
      },
      "source": [
        "5. Escribe un programa que calcule e imprima el volumen de una esfera de radio 19.2758 y lo redondee a el entero mas cercano:"
      ]
    },
    {
      "cell_type": "code",
      "source": [
        "import math\n",
        "print(math.pi)"
      ],
      "metadata": {
        "colab": {
          "base_uri": "https://localhost:8080/"
        },
        "id": "pB2DJCHL9c9L",
        "outputId": "4ef12021-a0a1-47bd-e28c-a703125f992a"
      },
      "execution_count": null,
      "outputs": [
        {
          "output_type": "stream",
          "name": "stdout",
          "text": [
            "3.141592653589793\n"
          ]
        }
      ]
    },
    {
      "cell_type": "code",
      "execution_count": null,
      "metadata": {
        "id": "hFFULjieOh0f",
        "colab": {
          "base_uri": "https://localhost:8080/"
        },
        "outputId": "f921bdfa-cdc9-4989-85d2-d93d1eefceaa"
      },
      "outputs": [
        {
          "output_type": "stream",
          "name": "stdout",
          "text": [
            "30000\n"
          ]
        }
      ],
      "source": [
        "import math\n",
        "\n",
        "radi = 19.2758\n",
        "volum_esfera = round(4./3 * math.pi * radi**3)\n",
        "\n",
        "print(volum_esfera)"
      ]
    },
    {
      "cell_type": "markdown",
      "metadata": {
        "id": "IWE8PD6eOh0g"
      },
      "source": [
        "6. Escribe un programa donde se defina un **diccionario** (estructura de datos Python) cuyas **claves** sean los nombres de los continentes y el **valor** una **lista** (estructura de datos Python) con animales endémicos de ese continente. Por ejemplo:\n",
        "\n",
        "```\n",
        "animales -> Europa: Lince ibérico, Bison Europeo, Vaca Suiza\n",
        "            África: León, Elefante Africano, Avestruz\n",
        "            ...\n",
        "```\n",
        "\n",
        "Un diccionario y una lista son estructuras de datos de Python, por favor repasa la teoria si no lo recuerdas."
      ]
    },
    {
      "cell_type": "code",
      "source": [
        "animales = {'Europa': ['Lince ibérico', 'Bison Europeo', 'Vaca Suiza'],\n",
        "            'África': ['León', 'Elefante Africano', 'Avestruz']\n",
        "           }\n",
        "\n",
        "print(animales)\n"
      ],
      "metadata": {
        "colab": {
          "base_uri": "https://localhost:8080/"
        },
        "id": "HrQOPfzL9gPj",
        "outputId": "4cfd2159-821a-4af6-83bc-87be12eabf53"
      },
      "execution_count": null,
      "outputs": [
        {
          "output_type": "stream",
          "name": "stdout",
          "text": [
            "{'Europa': ['Lince ibérico', 'Bison Europeo', 'Vaca Suiza'], 'África': ['León', 'Elefante Africano', 'Avestruz']}\n"
          ]
        }
      ]
    },
    {
      "cell_type": "markdown",
      "metadata": {
        "id": "n4pnSfWaOh0i"
      },
      "source": [
        "7. Escribe un programa que imprima la versión del intérprete de Python que se está ejecutando:"
      ]
    },
    {
      "cell_type": "code",
      "source": [
        "import sys\n",
        "\n",
        "print(sys.version)"
      ],
      "metadata": {
        "colab": {
          "base_uri": "https://localhost:8080/"
        },
        "id": "r3wGgDE--SCX",
        "outputId": "734cf17e-55e2-4250-d348-c72ddad23a6e"
      },
      "execution_count": null,
      "outputs": [
        {
          "output_type": "stream",
          "name": "stdout",
          "text": [
            "3.7.13 (default, Apr 24 2022, 01:04:09) \n",
            "[GCC 7.5.0]\n"
          ]
        }
      ]
    },
    {
      "cell_type": "markdown",
      "metadata": {
        "id": "iUBAvdrgOh0l"
      },
      "source": [
        "8. Escribe un programa que imprima la fecha y la hora actuales:"
      ]
    },
    {
      "cell_type": "code",
      "source": [
        "import datetime\n",
        "\n",
        "print(datetime.datetime.now())"
      ],
      "metadata": {
        "colab": {
          "base_uri": "https://localhost:8080/"
        },
        "id": "iqhXNc_u-jvJ",
        "outputId": "1b811ac4-eeb9-41e7-8aae-397d6632dbb9"
      },
      "execution_count": null,
      "outputs": [
        {
          "output_type": "stream",
          "name": "stdout",
          "text": [
            "2022-07-19 10:21:59.203185\n"
          ]
        }
      ]
    },
    {
      "cell_type": "markdown",
      "metadata": {
        "id": "9_CyTMz5Oh0n"
      },
      "source": [
        "9. Escribe un programa que calcule el número de días entre estas dos fechas:\n",
        "\n",
        "01/12/1984\n",
        "\n",
        "09/03/2021"
      ]
    },
    {
      "cell_type": "code",
      "execution_count": null,
      "metadata": {
        "id": "QmtvEf-9Oh0p",
        "colab": {
          "base_uri": "https://localhost:8080/"
        },
        "outputId": "d5641bb1-44ac-48d2-8301-3affcb32c86d"
      },
      "outputs": [
        {
          "output_type": "stream",
          "name": "stdout",
          "text": [
            "13247\n"
          ]
        }
      ],
      "source": [
        "from datetime import date\n",
        "\n",
        "date1 = date(1984, 12, 1)\n",
        "date2 = date(2021, 3, 9)\n",
        "delta = date2 - date1\n",
        "\n",
        "print(delta.days)"
      ]
    },
    {
      "cell_type": "markdown",
      "metadata": {
        "id": "WtA1S8rKjGbB"
      },
      "source": [
        "10. Completa el código necesario para: \n",
        "\n",
        "* Calcular el número de frases separadas por una coma.\n",
        "* Calcular el número de espacios de un texto.\n",
        "* Calcula el número de letras 'B' o 'a' que aparecen\n",
        "\n",
        "Ten en cuenta lo siguiente:\n",
        "\n",
        "* **El número de espacios no tiene que ser necesariamente función del número de palabras**\n",
        "* **Entre una línea y la siguiente de texto, justo después del carácter '\\' hay un gran número de espacios**\n",
        "* **Hay que contar el número de letras 'a', indistintamente de si son mayúsculas o minúsculas**\n"
      ]
    },
    {
      "cell_type": "code",
      "execution_count": 3,
      "metadata": {
        "id": "SERpfhrZjGbG",
        "outputId": "c6c2db65-7f35-4b7c-c576-f41395188a7a",
        "colab": {
          "base_uri": "https://localhost:8080/"
        }
      },
      "outputs": [
        {
          "output_type": "stream",
          "name": "stdout",
          "text": [
            "Texto 1\n",
            "El número de palabras es de 6\n",
            "El número de espacios es de 74\n",
            "El número de letras 'a' es de 7\n",
            "\n",
            "Texto 2\n",
            "El número de palabras es de 8\n",
            "El número de espacios es de 96\n",
            "El número de letras 'a' es de 7\n"
          ]
        }
      ],
      "source": [
        "texto1 = \"There was no reason to believe that a young black boy at this time, \\\n",
        "    in this place, could in any way alter history. After all, South Africa was \\\n",
        "    then less than a decade removed from full British control. Already, laws \\\n",
        "    were being codified to implement racial segregation and subjugation, \\\n",
        "    the network of laws that would be known as apartheid\"\n",
        "\n",
        "texto2 = \"Bioinformatics can be considered as the application of computer technology\\\n",
        "     to the understanding and effective use of biological and clinical data. It is \\\n",
        "     the discipline that acquire, stores,analyses and interprets the ‘big data’ \\\n",
        "     generated by life science experiments, or clinical data, using computer science.\\\n",
        "     Bioinformatics uses computer programs for a variety of applications, including \\\n",
        "     determining gene and protein functions, establishing evolutionary relationships, \\\n",
        "     and predicting the three-dimensional shapes of proteins.\"\n",
        "\n",
        "def contar_palabras(texto):\n",
        "    num_palabras = len(texto.split(','))\n",
        "    \n",
        "    return num_palabras\n",
        "\n",
        "def contar_espacios(texto):\n",
        "    num_espacios = texto.count(' ')\n",
        "    \n",
        "    return num_espacios\n",
        "\n",
        "def contar_letras(texto, letra='b'):\n",
        "    # Cuenta de letras 'letra' contenidos en texto\n",
        "    \n",
        "    # Utilizaremos la función count(), pero en este caso \n",
        "    # pasaremos antes todo a minúsculas:\n",
        "    num_letras = texto.lower().count(letra.lower())\n",
        "    \n",
        "    return num_letras\n",
        "\n",
        "\n",
        "# Utilizamos la funciones para el texto1:\n",
        "num_palabras = contar_palabras(texto1)\n",
        "num_espacios = contar_espacios(texto1)\n",
        "num_letras = contar_letras(texto1)\n",
        "print(\"Texto 1\")\n",
        "print(\"El número de palabras es de %d\" % num_palabras)\n",
        "print(\"El número de espacios es de %d\" % num_espacios)\n",
        "print(\"El número de letras 'a' es de %d\" % num_letras)\n",
        "\n",
        "print()\n",
        "\n",
        "# Y también para el texto2:\n",
        "num_palabras = contar_palabras(texto2)\n",
        "num_espacios = contar_espacios(texto2)\n",
        "num_letras = contar_letras(texto2)\n",
        "print(\"Texto 2\")\n",
        "print(\"El número de palabras es de %d\" % num_palabras)\n",
        "print(\"El número de espacios es de %d\" % num_espacios)\n",
        "print(\"El número de letras 'a' es de %d\" % num_letras)"
      ]
    }
  ]
}